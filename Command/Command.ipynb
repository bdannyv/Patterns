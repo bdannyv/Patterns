{
 "cells": [
  {
   "cell_type": "markdown",
   "metadata": {},
   "source": [
    "# Паттерн Команда"
   ]
  },
  {
   "cell_type": "markdown",
   "metadata": {},
   "source": [
    "-поведенческий паттерн проектирования\n",
    "\n",
    "-превращает запросы в объекты\n",
    "\n",
    "-позволяет передавать эти объекты как аргументы при вызове методов\n",
    "\n",
    "-ставить запросы в очередь, логировать их\n",
    "\n",
    "-также поддерживать отмену операций."
   ]
  },
  {
   "cell_type": "code",
   "execution_count": 1,
   "metadata": {},
   "outputs": [],
   "source": [
    "from __future__ import annotations\n",
    "from abc import ABC, abstractmethod"
   ]
  },
  {
   "cell_type": "code",
   "execution_count": 2,
   "metadata": {},
   "outputs": [],
   "source": [
    "class BaseCommand(ABC):\n",
    "    \"\"\"Инетрфейс команд -  \n",
    "    Абстрактный класс команды, имеющий единственный абстрактный метод, обязательный для конкретных команд\"\"\"\n",
    "        \n",
    "    @abstractmethod\n",
    "    def execute(self, context):\n",
    "        \"\"\"Метод, выполняющий команду. Будет переопределяться для каждой команды\"\"\"\n",
    "        pass"
   ]
  },
  {
   "cell_type": "code",
   "execution_count": 3,
   "metadata": {},
   "outputs": [],
   "source": [
    "### Действующие лица\n",
    "\n",
    "class VCS:\n",
    "    \"\"\"Класс 'Отправитель' - Система контроля версий\"\"\"\n",
    "    \n",
    "    def __init__(self,name):\n",
    "        self.name = name\n",
    "    \n",
    "    def __str__(self):\n",
    "        return self.name\n",
    "    \n",
    "    \"\"\"Любой запрос\"\"\"\n",
    "    def invoke(self, command: BaseCommand, data):\n",
    "        print(f'{self.name}: {command}')\n",
    "        command.execute(data)\n",
    "\n",
    "class Repo:\n",
    "    \"\"\"Класс 'Получатель' - Удаленный репозиторий\"\"\"\n",
    "    history=[]\n",
    "    \n",
    "    def __init__(self, name):\n",
    "        self.name = name\n",
    "        \n",
    "    def __str__(self):\n",
    "        return self.name\n",
    "        \n",
    "    def push(self, new_version):\n",
    "        self.history.append(f'push {new_version}')\n",
    "        print(f'{self.name}: Изменения сохранены')\n",
    "        \n",
    "    def pull(self, branch):\n",
    "        self.history.append(f'pull {branch}')\n",
    "        print(f'{self.name}: Пулл реквест из {branch}')\n",
    "        \n",
    "    def commit(self, message):\n",
    "        self.history.append(f'commit {message}')\n",
    "        print(f'{self.name}: Создан коммит - \"{message}\"')\n",
    "        \n",
    "    def reset(self, commit_hash):\n",
    "        self.history.pop()\n",
    "        print(f'{self.name}: Откат версии до {commit_hash}')\n",
    "    \n",
    "    def log(self):\n",
    "        print(f\"История изменений: {self.history}\")"
   ]
  },
  {
   "cell_type": "code",
   "execution_count": 4,
   "metadata": {},
   "outputs": [],
   "source": [
    "#Набор команд\n",
    "\n",
    "class PushCommand(BaseCommand):\n",
    "    \n",
    "    def __init__(self, reciever: Repo):\n",
    "        self.reciever = reciever\n",
    "        \n",
    "    def execute(self, smth_new):\n",
    "        print(f'push {smth_new}')\n",
    "        self.reciever.push(smth_new)\n",
    "        \n",
    "\n",
    "class PullCommand(BaseCommand):\n",
    "    \n",
    "    def __init__(self, reciever: Repo):\n",
    "        self.reciever = reciever\n",
    "        \n",
    "        \n",
    "        \n",
    "    def execute(self, branch_name):\n",
    "        print(f'pull {branch_name}')\n",
    "        self.reciever.pull(branch_name)\n",
    "        \n",
    "class CommitCommand(BaseCommand):\n",
    "    \n",
    "    def __init__(self, reciever: Repo):\n",
    "        self.reciever = reciever\n",
    "        \n",
    "    def execute(self, text):\n",
    "        print(f'commit -m {text}')\n",
    "        self.reciever.commit(text)\n",
    "        \n",
    "class ResetCommand(BaseCommand):\n",
    "    \n",
    "    def __init__(self, reciever: Repo):\n",
    "        self.reciever = reciever\n",
    "        \n",
    "    def execute(self, version):\n",
    "        print(f'reset {version}')\n",
    "        self.reciever.reset(version)\n",
    "        \n",
    "class LogCommand(BaseCommand):\n",
    "    \n",
    "    def __init__(self, reciever: Repo):\n",
    "        self.reciever = reciever\n",
    "        \n",
    "    def execute(self, t):\n",
    "        print(f'log {t}')\n",
    "        self.reciever.log()"
   ]
  },
  {
   "cell_type": "markdown",
   "metadata": {},
   "source": [
    "___"
   ]
  },
  {
   "cell_type": "code",
   "execution_count": 5,
   "metadata": {},
   "outputs": [],
   "source": [
    "# Два отправителя\n",
    "cmd = VCS('Cmd')\n",
    "gui = VCS('Gui')"
   ]
  },
  {
   "cell_type": "code",
   "execution_count": 6,
   "metadata": {},
   "outputs": [],
   "source": [
    "# Получатель\n",
    "Unifloc = Repo('Unifloc')"
   ]
  },
  {
   "cell_type": "code",
   "execution_count": 7,
   "metadata": {},
   "outputs": [],
   "source": [
    "#Набор команд\n",
    "pull = PullCommand(reciever=Unifloc)\n",
    "push = PushCommand(reciever=Unifloc)\n",
    "commit = CommitCommand(reciever=Unifloc)\n",
    "reset = ResetCommand(reciever=Unifloc)\n",
    "log = LogCommand(reciever=Unifloc)"
   ]
  },
  {
   "cell_type": "code",
   "execution_count": 8,
   "metadata": {},
   "outputs": [
    {
     "name": "stdout",
     "output_type": "stream",
     "text": [
      "Cmd: <__main__.PullCommand object at 0x7ffdf1f63ee0>\n",
      "pull master\n",
      "Unifloc: Пулл реквест из master\n"
     ]
    }
   ],
   "source": [
    "#Реализация команд\n",
    "cmd.invoke(pull,'master')"
   ]
  },
  {
   "cell_type": "code",
   "execution_count": 9,
   "metadata": {},
   "outputs": [
    {
     "name": "stdout",
     "output_type": "stream",
     "text": [
      "Cmd: <__main__.CommitCommand object at 0x7ffdf1f63b50>\n",
      "commit -m Новая фича\n",
      "Unifloc: Создан коммит - \"Новая фича\"\n"
     ]
    }
   ],
   "source": [
    "cmd.invoke(commit, 'Новая фича')"
   ]
  },
  {
   "cell_type": "code",
   "execution_count": 10,
   "metadata": {},
   "outputs": [
    {
     "name": "stdout",
     "output_type": "stream",
     "text": [
      "Gui: <__main__.PushCommand object at 0x7ffdf1f63460>\n",
      "push master\n",
      "Unifloc: Изменения сохранены\n"
     ]
    }
   ],
   "source": [
    "gui.invoke(push, 'master')"
   ]
  },
  {
   "cell_type": "code",
   "execution_count": 11,
   "metadata": {},
   "outputs": [
    {
     "name": "stdout",
     "output_type": "stream",
     "text": [
      "Cmd: <__main__.ResetCommand object at 0x7ffdf1f63e50>\n",
      "reset 23d5tg\n",
      "Unifloc: Откат версии до 23d5tg\n"
     ]
    }
   ],
   "source": [
    "cmd.invoke(reset, '23d5tg')"
   ]
  },
  {
   "cell_type": "code",
   "execution_count": 12,
   "metadata": {},
   "outputs": [
    {
     "name": "stdout",
     "output_type": "stream",
     "text": [
      "Cmd: <__main__.LogCommand object at 0x7ffdf1f637c0>\n",
      "log --oneline\n",
      "История изменений: ['pull master', 'commit Новая фича']\n"
     ]
    }
   ],
   "source": [
    "cmd.invoke(log, '--oneline')"
   ]
  },
  {
   "cell_type": "code",
   "execution_count": 13,
   "metadata": {},
   "outputs": [
    {
     "name": "stdout",
     "output_type": "stream",
     "text": [
      "Cmd: <__main__.PullCommand object at 0x7ffdf1f63ee0>\n",
      "pull master\n",
      "Unifloc: Пулл реквест из master\n"
     ]
    }
   ],
   "source": [
    "cmd.invoke(pull,'master')"
   ]
  },
  {
   "cell_type": "code",
   "execution_count": 14,
   "metadata": {},
   "outputs": [
    {
     "name": "stdout",
     "output_type": "stream",
     "text": [
      "Cmd: <__main__.LogCommand object at 0x7ffdf1f637c0>\n",
      "log --oneline\n",
      "История изменений: ['pull master', 'commit Новая фича', 'pull master']\n"
     ]
    }
   ],
   "source": [
    "cmd.invoke(log, '--oneline')"
   ]
  },
  {
   "cell_type": "code",
   "execution_count": null,
   "metadata": {},
   "outputs": [],
   "source": []
  }
 ],
 "metadata": {
  "kernelspec": {
   "display_name": "Python 3",
   "language": "python",
   "name": "python3"
  },
  "language_info": {
   "codemirror_mode": {
    "name": "ipython",
    "version": 3
   },
   "file_extension": ".py",
   "mimetype": "text/x-python",
   "name": "python",
   "nbconvert_exporter": "python",
   "pygments_lexer": "ipython3",
   "version": "3.8.5"
  }
 },
 "nbformat": 4,
 "nbformat_minor": 4
}
